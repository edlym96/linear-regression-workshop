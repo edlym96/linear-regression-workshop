{
 "cells": [
  {
   "cell_type": "markdown",
   "metadata": {},
   "source": [
    "# Demo: Linear Models"
   ]
  },
  {
   "cell_type": "markdown",
   "metadata": {},
   "source": [
    "## Problem Statement"
   ]
  },
  {
   "cell_type": "markdown",
   "metadata": {},
   "source": [
    "## Initialise Libraries\n",
    "Essential libraries for linear algebra operations and visualization."
   ]
  },
  {
   "cell_type": "code",
   "execution_count": 1,
   "metadata": {},
   "outputs": [],
   "source": [
    "# scientific computing library\n",
    "import numpy as np\n",
    "\n",
    "# visualization tools\n",
    "import matplotlib.pyplot as plt\n",
    "\n",
    "# show plots without need of calling `.show()`\n",
    "%matplotlib inline\n",
    "\n",
    "# prettify plots\n",
    "plt.rcParams['figure.figsize'] = [20, 10]\n",
    "\n",
    "# supress warnings\n",
    "import warnings\n",
    "warnings.filterwarnings('ignore')"
   ]
  },
  {
   "cell_type": "markdown",
   "metadata": {},
   "source": [
    "## Visualization Function"
   ]
  },
  {
   "cell_type": "code",
   "execution_count": 2,
   "metadata": {},
   "outputs": [],
   "source": [
    "def visualize(x, y=None, y_hat=None):\n",
    "    if y is not None:\n",
    "        plt.plot(x, y, '-', label='Loss')\n",
    "    plt.legend()\n",
    "    plt.show()"
   ]
  },
  {
   "cell_type": "markdown",
   "metadata": {},
   "source": [
    "## Extracting Data"
   ]
  },
  {
   "cell_type": "code",
   "execution_count": 3,
   "metadata": {},
   "outputs": [],
   "source": [
    "#function to load files\n",
    "def loader(filename):\n",
    "    c=np.loadtxt('./data/%s.txt' % filename, delimiter=',')\n",
    "    x=c[:,:-1] #extract every column except the last column\n",
    "    y=c[:,-1] #extract the last column\n",
    "    return x,y\n",
    "\n",
    "#Generate X and y matrices\n",
    "X,y=loader(\"ex1data2\")"
   ]
  },
  {
   "cell_type": "markdown",
   "metadata": {},
   "source": [
    "## Initialise Training Variables"
   ]
  },
  {
   "cell_type": "code",
   "execution_count": 4,
   "metadata": {},
   "outputs": [
    {
     "name": "stdout",
     "output_type": "stream",
     "text": [
      "weights are:  [0.5488135  0.71518937]\n"
     ]
    }
   ],
   "source": [
    "n_epochs = 50 #number of iterations\n",
    "np.random.seed(0) #seeding to persist results\n",
    "m=y.size #Get total number of data samples\n",
    "n=X.shape[1] #Get total number of features\n",
    "\n",
    "#Generate N Random Weights\n",
    "W=np.random.rand(n)\n",
    "print(\"weights are: \", W)\n",
    "\n",
    "#initialise arrays to track iteration number and loss\n",
    "it=[] \n",
    "loss_array=[]"
   ]
  },
  {
   "cell_type": "markdown",
   "metadata": {},
   "source": [
    "## Normalise Function\n",
    "$$x_{j}=\\frac{x_{j}-\\mu_{j}}{\\sigma_{j}}$$"
   ]
  },
  {
   "cell_type": "code",
   "execution_count": 5,
   "metadata": {},
   "outputs": [],
   "source": [
    "def normalise(X):\n",
    "    mean_x=np.mean(X,axis=0)\n",
    "    std_x=np.std(X,axis=0)\n",
    "    normalised_x=(X-mean_x)/std_x\n",
    "    return normalised_x"
   ]
  },
  {
   "cell_type": "markdown",
   "metadata": {},
   "source": [
    "## Model Function\n",
    "$$\\mathbf{\\hat{y}}=\\mathbf{X}*\\mathbf{W}$$"
   ]
  },
  {
   "cell_type": "code",
   "execution_count": 6,
   "metadata": {},
   "outputs": [],
   "source": [
    "def multi_linear_model(W,X):\n",
    "    y_hat=np.dot(X,W)\n",
    "    return y_hat"
   ]
  },
  {
   "cell_type": "markdown",
   "metadata": {},
   "source": [
    "## Loss Function- Mean Square Error\n",
    "\n",
    "$$MSE = \\frac{1}{2m} (\\mathbf{y} - \\mathbf{\\hat{y}})^{\\mathbf{T}}(\\mathbf{y} - \\mathbf{\\hat{y}})$$"
   ]
  },
  {
   "cell_type": "code",
   "execution_count": 7,
   "metadata": {},
   "outputs": [],
   "source": [
    "# function for mse\n",
    "def calculate_MSE(y, y_hat,size):\n",
    "    diff= y_hat - y\n",
    "    diff_squared=np.power(diff,2)\n",
    "    loss=1/(2*size)*np.sum(diff_squared)\n",
    "    return loss"
   ]
  },
  {
   "cell_type": "markdown",
   "metadata": {},
   "source": [
    "## Gradient Descent Algorithm\n",
    "$$\\mathbf{W} = \\mathbf{W} - \\alpha \\frac{1}{m}(\\mathbf{\\hat{y}} - \\mathbf{{y}})^{\\mathbf{T}}\\mathbf{X}$$\n"
   ]
  },
  {
   "cell_type": "code",
   "execution_count": 8,
   "metadata": {},
   "outputs": [],
   "source": [
    "def gradient_descent(W,X,y,y_hat,size,learning_rate=0.01):\n",
    "    diff = y_hat-y\n",
    "    W = W-(learning_rate/size)*np.dot(np.transpose(X),diff)\n",
    "    print(\"W is: \", W)\n",
    "    return W"
   ]
  },
  {
   "cell_type": "markdown",
   "metadata": {},
   "source": [
    "## Training"
   ]
  },
  {
   "cell_type": "code",
   "execution_count": 9,
   "metadata": {},
   "outputs": [
    {
     "name": "stdout",
     "output_type": "stream",
     "text": [
      "0\n",
      "loss is:  65172037053.95108\n",
      "W is:  [76166838.19631782   111670.44678385]\n",
      "1\n",
      "loss is:  1.3403635100963125e+22\n",
      "W is:  [-3.51953872e+13 -5.08338047e+10]\n",
      "2\n",
      "loss is:  2.8619635247215973e+33\n",
      "W is:  [1.62632185e+19 2.34894794e+16]\n",
      "3\n",
      "loss is:  6.1109058513908365e+44\n",
      "W is:  [-7.51496991e+24 -1.08541081e+22]\n",
      "4\n",
      "loss is:  1.304809442957362e+56\n",
      "W is:  [3.47254590e+30 5.01550758e+27]\n",
      "5\n",
      "loss is:  2.786047967083651e+67\n",
      "W is:  [-1.60460723e+36 -2.31758483e+33]\n",
      "6\n",
      "loss is:  5.94880985632519e+78\n",
      "W is:  [7.41463016e+41 1.07091842e+39]\n",
      "7\n",
      "loss is:  1.2701984719866532e+90\n",
      "W is:  [-3.42618053e+47 -4.94854060e+44]\n",
      "8\n",
      "loss is:  2.7121461220041256e+101\n",
      "W is:  [1.58318254e+53 2.28664048e+50]\n",
      "9\n",
      "loss is:  5.791013569396977e+112\n",
      "W is:  [-7.31563014e+58 -1.05661954e+56]\n",
      "10\n",
      "loss is:  1.2365055809072268e+124\n",
      "W is:  [3.38043422e+64 4.88246778e+61]\n",
      "11\n",
      "loss is:  2.640204574367675e+135\n",
      "W is:  [-1.56204391e+70 -2.25610929e+67]\n",
      "12\n",
      "loss is:  5.637402937880472e+146\n",
      "W is:  [7.21795198e+75 1.04251157e+73]\n",
      "13\n",
      "loss is:  1.203706417016367e+158\n",
      "W is:  [-3.33529872e+81 -4.81727715e+78]\n",
      "14\n",
      "loss is:  2.5701713259317516e+169\n",
      "W is:  [1.54118753e+87 2.22598576e+84]\n",
      "15\n",
      "loss is:  5.487866934377205e+180\n",
      "W is:  [-7.12157801e+92 -1.02859197e+90]\n",
      "16\n",
      "loss is:  1.171777273583604e+192\n",
      "W is:  [3.29076587e+98 4.75295695e+95]\n",
      "17\n",
      "loss is:  2.5019957577430723e+203\n",
      "W is:  [-1.52060962e+104 -2.19626444e+101]\n",
      "18\n",
      "loss is:  5.342297476567074e+214\n",
      "W is:  [7.02649082e+109 1.01485823e+107]\n",
      "19\n",
      "loss is:  1.1406950727158535e+226\n",
      "W is:  [-3.24682762e+115 -4.68949555e+112]\n",
      "20\n",
      "loss is:  2.435628593551028e+237\n",
      "W is:  [1.50030647e+121 2.16693995e+118]\n",
      "21\n",
      "loss is:  5.200589349088112e+248\n",
      "W is:  [-6.93267323e+126 -1.00130786e+124]\n",
      "22\n",
      "loss is:  1.110437348677073e+260\n",
      "W is:  [3.20347604e+132 4.62688148e+129]\n",
      "23\n",
      "loss is:  2.371021864191561e+271\n",
      "W is:  [-1.48027440e+138 -2.13800701e+135]\n",
      "24\n",
      "loss is:  5.062640127488443e+282\n",
      "W is:  [6.84010830e+143 9.87938417e+140]\n",
      "25\n",
      "loss is:  1.0809822316503722e+294\n",
      "W is:  [-3.16070328e+149 -4.56510344e+146]\n",
      "26\n",
      "loss is:  2.308128872915798e+305\n",
      "W is:  [1.46050980e+155 2.10946038e+152]\n",
      "27\n",
      "loss is:  inf\n",
      "W is:  [-6.74877929e+160 -9.74747480e+157]\n",
      "28\n",
      "loss is:  inf\n",
      "W is:  [3.11850162e+166 4.50415026e+163]\n",
      "29\n",
      "loss is:  inf\n",
      "W is:  [-1.4410091e+172 -2.0812949e+169]\n",
      "30\n",
      "loss is:  inf\n",
      "W is:  [6.65866971e+177 9.61732669e+174]\n",
      "31\n",
      "loss is:  inf\n",
      "W is:  [-3.07686344e+183 -4.44401092e+180]\n",
      "32\n",
      "loss is:  inf\n",
      "W is:  [1.42176877e+189 2.05350548e+186]\n",
      "33\n",
      "loss is:  inf\n",
      "W is:  [-6.56976326e+194 -9.48891631e+191]\n",
      "34\n",
      "loss is:  inf\n",
      "W is:  [3.03578122e+200 4.38467457e+197]\n",
      "35\n",
      "loss is:  inf\n",
      "W is:  [-1.40278534e+206 -2.02608711e+203]\n",
      "36\n",
      "loss is:  inf\n",
      "W is:  [6.48204390e+211 9.36222046e+208]\n",
      "37\n",
      "loss is:  inf\n",
      "W is:  [-2.99524752e+217 -4.32613047e+214]\n",
      "38\n",
      "loss is:  inf\n",
      "W is:  [1.38405537e+223 1.99903483e+220]\n",
      "39\n",
      "loss is:  inf\n",
      "W is:  [-6.39549576e+228 -9.23721625e+225]\n",
      "40\n",
      "loss is:  inf\n",
      "W is:  [2.95525503e+234 4.26836805e+231]\n",
      "41\n",
      "loss is:  inf\n",
      "W is:  [-1.36557549e+240 -1.97234375e+237]\n",
      "42\n",
      "loss is:  inf\n",
      "W is:  [6.31010321e+245 9.11388110e+242]\n",
      "43\n",
      "loss is:  inf\n",
      "W is:  [-2.91579651e+251 -4.21137687e+248]\n",
      "44\n",
      "loss is:  inf\n",
      "W is:  [1.34734235e+257 1.94600905e+254]\n",
      "45\n",
      "loss is:  inf\n",
      "W is:  [-6.22585082e+262 -8.99219272e+259]\n",
      "46\n",
      "loss is:  inf\n",
      "W is:  [2.87686485e+268 4.15514664e+265]\n",
      "47\n",
      "loss is:  inf\n",
      "W is:  [-1.32935266e+274 -1.92002598e+271]\n",
      "48\n",
      "loss is:  inf\n",
      "W is:  [6.14272337e+279 8.87212911e+276]\n",
      "49\n",
      "loss is:  inf\n",
      "W is:  [-2.83845300e+285 -4.09966719e+282]\n"
     ]
    }
   ],
   "source": [
    "#Normalise features\n",
    "X=normalise(X)\n",
    "\n",
    "#Initialise Model\n",
    "y_hat=multi_linear_model(W,X)\n",
    "\n",
    "for _ in range(n_epochs):\n",
    "    it.append(_)\n",
    "    print(_)\n",
    "    #Calculate loss\n",
    "    loss=calculate_MSE(y,y_hat,m)\n",
    "    loss_array.append(loss)\n",
    "    print(\"loss is: \",loss)\n",
    "\n",
    "    #Perform gradient descent\n",
    "    W = gradient_descent(W,X,y,y_hat,m,0.1)\n",
    "\n",
    "    #Generate new model\n",
    "    y_hat = multi_linear_model(W, X)"
   ]
  },
  {
   "cell_type": "markdown",
   "metadata": {},
   "source": [
    "## Plot graph"
   ]
  },
  {
   "cell_type": "code",
   "execution_count": 10,
   "metadata": {},
   "outputs": [
    {
     "data": {
      "image/png": "[encoded data removed]",
      "text/plain": [
       "<Figure size 432x288 with 1 Axes>"
      ]
     },
     "metadata": {},
     "output_type": "display_data"
    }
   ],
   "source": [
    "visualize(it, loss_array)"
   ]
  },
  {
   "cell_type": "markdown",
   "metadata": {},
   "source": [
    "## Playground"
   ]
  },
  {
   "cell_type": "markdown",
   "metadata": {},
   "source": [
    "Place to try snippets of code and log the outputs."
   ]
  },
  {
   "cell_type": "code",
   "execution_count": null,
   "metadata": {},
   "outputs": [],
   "source": []
  }
 ],
 "metadata": {
  "kernelspec": {
   "display_name": "Python 3",
   "language": "python",
   "name": "python3"
  },
  "language_info": {
   "codemirror_mode": {
    "name": "ipython",
    "version": 3
   },
   "file_extension": ".py",
   "mimetype": "text/x-python",
   "name": "python",
   "nbconvert_exporter": "python",
   "pygments_lexer": "ipython3",
   "version": "3.6.6"
  }
 },
 "nbformat": 4,
 "nbformat_minor": 2
}
