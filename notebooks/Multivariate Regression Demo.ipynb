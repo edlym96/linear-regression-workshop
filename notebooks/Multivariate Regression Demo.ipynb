{
 "cells": [
  {
   "cell_type": "markdown",
   "metadata": {},
   "source": [
    "# Demo: Linear Models"
   ]
  },
  {
   "cell_type": "markdown",
   "metadata": {},
   "source": [
    "# Problem Statement"
   ]
  },
  {
   "cell_type": "markdown",
   "metadata": {},
   "source": [
    "# Solution"
   ]
  },
  {
   "cell_type": "markdown",
   "metadata": {},
   "source": [
    "## 1. Initialise Libraries\n",
    "Essential libraries for linear algebra operations and visualization."
   ]
  },
  {
   "cell_type": "code",
   "execution_count": 1,
   "metadata": {},
   "outputs": [],
   "source": [
    "# scientific computing library\n",
    "import numpy as np\n",
    "\n",
    "# visualization tools\n",
    "import matplotlib.pyplot as plt\n",
    "\n",
    "# show plots without need of calling `.show()`\n",
    "%matplotlib inline\n",
    "\n",
    "# prettify plots\n",
    "plt.rcParams['figure.figsize'] = [20, 10]\n",
    "\n",
    "# supress warnings\n",
    "import warnings\n",
    "warnings.filterwarnings('ignore')"
   ]
  },
  {
   "cell_type": "markdown",
   "metadata": {},
   "source": [
    "## 2. Create Helper Functions"
   ]
  },
  {
   "cell_type": "markdown",
   "metadata": {},
   "source": [
    "### Visualization Function"
   ]
  },
  {
   "cell_type": "code",
   "execution_count": 2,
   "metadata": {},
   "outputs": [],
   "source": [
    "def visualize(x, y=None, y_hat=None):\n",
    "    plt.xlabel(\"Number of iterations\")\n",
    "    if y is not None:\n",
    "        plt.plot(x, y, '-', label='Loss')\n",
    "    plt.legend()\n",
    "    plt.show()"
   ]
  },
  {
   "cell_type": "markdown",
   "metadata": {},
   "source": [
    "### Extracting Data"
   ]
  },
  {
   "cell_type": "code",
   "execution_count": 3,
   "metadata": {},
   "outputs": [],
   "source": [
    "#function to load files\n",
    "def loader(filename):\n",
    "    c=np.loadtxt('./data/%s.txt' % filename, delimiter=',')\n",
    "    x=c[:,:-1] #extract every column except the last column\n",
    "    y=c[:,-1] #extract the last column\n",
    "    return x,y"
   ]
  },
  {
   "cell_type": "markdown",
   "metadata": {},
   "source": [
    "### Normalise Function\n",
    "$$x_{j}=\\frac{x_{j}-\\mu_{j}}{\\sigma_{j}}$$"
   ]
  },
  {
   "cell_type": "code",
   "execution_count": 4,
   "metadata": {},
   "outputs": [],
   "source": [
    "def normalise(X):\n",
    "    mean_x=np.mean(X,axis=0)\n",
    "    std_x=np.std(X,axis=0)\n",
    "    normalised_x=(X-mean_x)/std_x\n",
    "    return normalised_x"
   ]
  },
  {
   "cell_type": "markdown",
   "metadata": {},
   "source": [
    "### Model Function\n",
    "$$\\mathbf{\\hat{y}}=\\mathbf{X}*\\mathbf{W}$$"
   ]
  },
  {
   "cell_type": "code",
   "execution_count": 5,
   "metadata": {},
   "outputs": [],
   "source": [
    "def multi_linear_model(W,X):\n",
    "    y_hat=np.dot(X,W)\n",
    "    return y_hat"
   ]
  },
  {
   "cell_type": "markdown",
   "metadata": {},
   "source": [
    "### Loss Function- Mean Square Error\n",
    "\n",
    "$$MSE = \\frac{1}{2m} (\\mathbf{y} - \\mathbf{\\hat{y}})^{\\mathbf{T}}(\\mathbf{y} - \\mathbf{\\hat{y}})$$"
   ]
  },
  {
   "cell_type": "code",
   "execution_count": 6,
   "metadata": {},
   "outputs": [],
   "source": [
    "# function for mse\n",
    "def calculate_MSE(y, y_hat,size):\n",
    "    diff= y_hat - y\n",
    "    diff_squared=np.power(diff,2)\n",
    "    loss=1/(2*size)*np.sum(diff_squared)\n",
    "    return loss"
   ]
  },
  {
   "cell_type": "markdown",
   "metadata": {},
   "source": [
    "### Gradient Descent Algorithm\n",
    "$$\\mathbf{W} = \\mathbf{W} - \\alpha \\frac{1}{m}(\\mathbf{\\hat{y}} - \\mathbf{{y}})^{\\mathbf{T}}\\mathbf{X}$$\n"
   ]
  },
  {
   "cell_type": "code",
   "execution_count": 7,
   "metadata": {},
   "outputs": [],
   "source": [
    "def gradient_descent(W,X,y,y_hat,size,learning_rate=0.01):\n",
    "    diff = y_hat-y\n",
    "    W = W-(learning_rate/size)*np.dot(np.transpose(X),diff)\n",
    "    print(\"W is: \", W)\n",
    "    return W"
   ]
  },
  {
   "cell_type": "markdown",
   "metadata": {},
   "source": [
    "## 3. Train Model"
   ]
  },
  {
   "cell_type": "markdown",
   "metadata": {},
   "source": [
    "### Initialise Training Variables"
   ]
  },
  {
   "cell_type": "code",
   "execution_count": 8,
   "metadata": {},
   "outputs": [
    {
     "name": "stdout",
     "output_type": "stream",
     "text": [
      "weights are:  [0.5488135  0.71518937]\n"
     ]
    }
   ],
   "source": [
    "#Generate X and y matrices\n",
    "X,y=loader(\"ex1data2\")\n",
    "\n",
    "n_epochs = 50 #number of iterations\n",
    "np.random.seed(0) #seeding to persist results\n",
    "m=y.size #Get total number of data samples\n",
    "n=X.shape[1] #Get total number of features\n",
    "\n",
    "#Generate N Random Weights\n",
    "W=np.random.rand(n)\n",
    "print(\"weights are: \", W)\n",
    "\n",
    "#initialise arrays to track iteration number and loss\n",
    "it=[] \n",
    "loss_array=[]"
   ]
  },
  {
   "cell_type": "markdown",
   "metadata": {},
   "source": [
    "### Training Script"
   ]
  },
  {
   "cell_type": "code",
   "execution_count": 9,
   "metadata": {},
   "outputs": [
    {
     "name": "stdout",
     "output_type": "stream",
     "text": [
      "0\n",
      "loss is:  65591450935.13133\n",
      "W is:  [10576.86723318  5471.49511426]\n",
      "1\n",
      "loss is:  64276865564.56646\n",
      "W is:  [19789.20807687  9802.9579009 ]\n",
      "2\n",
      "loss is:  63314736346.30926\n",
      "W is:  [27837.76712547 13185.41353411]\n",
      "3\n",
      "loss is:  62605887899.8051\n",
      "W is:  [34892.06384673 15778.93069306]\n",
      "4\n",
      "loss is:  62079483127.85389\n",
      "W is:  [41095.70244057 17718.07865476]\n",
      "5\n",
      "loss is:  61684887853.39086\n",
      "W is:  [46570.39124874 19115.92840428]\n",
      "6\n",
      "loss is:  61385874252.19382\n",
      "W is:  [51419.33617446 20067.42856019]\n",
      "7\n",
      "loss is:  61156490428.44564\n",
      "W is:  [55730.10571939 20652.2536871 ]\n",
      "8\n",
      "loss is:  60978116963.98407\n",
      "W is:  [59577.05002069 20937.20734427]\n",
      "9\n",
      "loss is:  60837369099.58987\n",
      "W is:  [63023.34342158 20978.24937115]\n",
      "10\n",
      "loss is:  60724601387.75284\n",
      "W is:  [66122.70926348 20822.20606724]\n",
      "11\n",
      "loss is:  60632841595.57497\n",
      "W is:  [68920.87643445 20508.21277115]\n",
      "12\n",
      "loss is:  60557030457.76535\n",
      "W is:  [71456.80948314 20068.93061988]\n",
      "13\n",
      "loss is:  60493479370.08836\n",
      "W is:  [73763.74758678 19531.57274976]\n",
      "14\n",
      "loss is:  60439483395.49107\n",
      "W is:  [75870.08215849 18918.7696986 ]\n",
      "15\n",
      "loss is:  60393044964.98057\n",
      "W is:  [77800.09823416 18249.29912441]\n",
      "16\n",
      "loss is:  60352676484.96263\n",
      "W is:  [79574.60085884 17538.70103702]\n",
      "17\n",
      "loss is:  60317259202.27598\n",
      "W is:  [81211.4443835  16799.79643099]\n",
      "18\n",
      "loss is:  60285942189.01858\n",
      "W is:  [82725.97979034 16043.12441631]\n",
      "19\n",
      "loss is:  60258069947.584816\n",
      "W is:  [84131.43280776 15277.31058733]\n",
      "20\n",
      "loss is:  60233130440.737625\n",
      "W is:  [85439.22358633 14509.37738156]\n",
      "21\n",
      "loss is:  60210717705.70788\n",
      "W is:  [86659.23702807 13745.00550175]\n",
      "22\n",
      "loss is:  60190504888.566765\n",
      "W is:  [87800.05144411 12988.7540583 ]\n",
      "23\n",
      "loss is:  60172224730.14688\n",
      "W is:  [88869.13201919 12244.24589327]\n",
      "24\n",
      "loss is:  60155655386.29231\n",
      "W is:  [89872.99455235 11514.32353866]\n",
      "25\n",
      "loss is:  60140610071.99116\n",
      "W is:  [90817.34409021 10801.18040988]\n",
      "26\n",
      "loss is:  60126929451.370544\n",
      "W is:  [91707.19235071 10106.47111692]\n",
      "27\n",
      "loss is:  60114476003.74501\n",
      "W is:  [92546.95722721  9431.40416899]\n",
      "28\n",
      "loss is:  60103129815.62592\n",
      "W is:  [93340.54715122  8776.81983683]\n",
      "29\n",
      "loss is:  60092785405.25899\n",
      "W is:  [94091.43265868  8143.25550477]\n",
      "30\n",
      "loss is:  60083349297.98943\n",
      "W is:  [94802.70714017  7531.00048008]\n",
      "31\n",
      "loss is:  60074738150.470024\n",
      "W is:  [95477.13844697  6940.14191957]\n",
      "32\n",
      "loss is:  60066877278.624535\n",
      "W is:  [96117.21276471  6370.60327376]\n",
      "33\n",
      "loss is:  60059699484.914116\n",
      "W is:  [96725.17194701  5822.17642992]\n",
      "34\n",
      "loss is:  60053144109.49426\n",
      "W is:  [97303.04531573  5294.54855009]\n",
      "35\n",
      "loss is:  60047156250.62399\n",
      "W is:  [97852.67677845  4787.32444476]\n",
      "36\n",
      "loss is:  60041686114.56443\n",
      "W is:  [98375.74798133  4300.04519062]\n",
      "37\n",
      "loss is:  60036688465.87527\n",
      "W is:  [98873.79810409  3832.20358997]\n",
      "38\n",
      "loss is:  60032122156.6829\n",
      "W is:  [99348.24080989  3383.2569759 ]\n",
      "39\n",
      "loss is:  60027949719.01638\n",
      "W is:  [99800.37878315  2952.63778768]\n",
      "40\n",
      "loss is:  60024137008.29574\n",
      "W is:  [100231.41622137   2539.76227459]\n",
      "41\n",
      "loss is:  60020652888.9489\n",
      "W is:  [100642.46959046   2144.03762989]\n",
      "42\n",
      "loss is:  60017468955.239204\n",
      "W is:  [101034.57690493   1764.86780907]\n",
      "43\n",
      "loss is:  60014559281.928055\n",
      "W is:  [101408.70575442   1401.65824666]\n",
      "44\n",
      "loss is:  60011900200.5349\n",
      "W is:  [101765.76026327   1053.8196519 ]\n",
      "45\n",
      "loss is:  60009470097.80056\n",
      "W is:  [102106.58714179    720.7710351 ]\n",
      "46\n",
      "loss is:  60007249233.59622\n",
      "W is:  [102431.98096275    401.94209255]\n",
      "47\n",
      "loss is:  60005219576.00006\n",
      "W is:  [1.02742689e+05 9.67750574e+01]\n",
      "48\n",
      "loss is:  60003364651.6339\n",
      "W is:  [103039.41416253   -195.27389277]\n",
      "49\n",
      "loss is:  60001669409.64012\n",
      "W is:  [103322.82079314   -474.73359642]\n"
     ]
    }
   ],
   "source": [
    "#Normalise features\n",
    "X=normalise(X)\n",
    "\n",
    "#Initialise Model\n",
    "y_hat=multi_linear_model(W,X)\n",
    "\n",
    "for _ in range(n_epochs):\n",
    "    it.append(_)\n",
    "    print(_)\n",
    "    #Calculate loss\n",
    "    loss=calculate_MSE(y,y_hat,m)\n",
    "    loss_array.append(loss)\n",
    "    print(\"loss is: \",loss)\n",
    "\n",
    "    #Perform gradient descent\n",
    "    W = gradient_descent(W,X,y,y_hat,m,0.1)\n",
    "\n",
    "    #Generate new model\n",
    "    y_hat = multi_linear_model(W, X)"
   ]
  },
  {
   "cell_type": "markdown",
   "metadata": {},
   "source": [
    "## Plot graph"
   ]
  },
  {
   "cell_type": "code",
   "execution_count": 10,
   "metadata": {},
   "outputs": [
    {
     "data": {
      "image/png": "[encoded data removed]",
      "text/plain": [
       "<Figure size 432x288 with 1 Axes>"
      ]
     },
     "metadata": {},
     "output_type": "display_data"
    }
   ],
   "source": [
    "visualize(it, loss_array)"
   ]
  },
  {
   "cell_type": "markdown",
   "metadata": {},
   "source": [
    "## Playground"
   ]
  },
  {
   "cell_type": "markdown",
   "metadata": {},
   "source": [
    "Place to try snippets of code and log the outputs."
   ]
  },
  {
   "cell_type": "code",
   "execution_count": null,
   "metadata": {},
   "outputs": [],
   "source": []
  }
 ],
 "metadata": {
  "kernelspec": {
   "display_name": "Python 3",
   "language": "python",
   "name": "python3"
  },
  "language_info": {
   "codemirror_mode": {
    "name": "ipython",
    "version": 3
   },
   "file_extension": ".py",
   "mimetype": "text/x-python",
   "name": "python",
   "nbconvert_exporter": "python",
   "pygments_lexer": "ipython3",
   "version": "3.6.6"
  }
 },
 "nbformat": 4,
 "nbformat_minor": 2
}
